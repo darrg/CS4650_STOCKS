{
 "cells": [
  {
   "cell_type": "code",
   "execution_count": 1,
   "id": "c4c04a52-1f2e-4389-b5ef-e4b3670ea284",
   "metadata": {},
   "outputs": [
    {
     "name": "stdout",
     "output_type": "stream",
     "text": [
      "Requirement already satisfied: numpy in c:\\users\\darrg\\miniconda3\\lib\\site-packages (1.21.4)\n",
      "Requirement already satisfied: pandas in c:\\users\\darrg\\miniconda3\\lib\\site-packages (1.3.4)\n",
      "Requirement already satisfied: python-dateutil>=2.7.3 in c:\\users\\darrg\\miniconda3\\lib\\site-packages (from pandas) (2.8.2)\n",
      "Requirement already satisfied: pytz>=2017.3 in c:\\users\\darrg\\miniconda3\\lib\\site-packages (from pandas) (2021.3)\n",
      "Requirement already satisfied: numpy>=1.17.3 in c:\\users\\darrg\\miniconda3\\lib\\site-packages (from pandas) (1.21.4)\n",
      "Requirement already satisfied: six>=1.5 in c:\\users\\darrg\\miniconda3\\lib\\site-packages (from python-dateutil>=2.7.3->pandas) (1.16.0)\n",
      "Requirement already satisfied: matplotlib in c:\\users\\darrg\\miniconda3\\lib\\site-packages (3.5.0)\n",
      "Requirement already satisfied: pyparsing>=2.2.1 in c:\\users\\darrg\\miniconda3\\lib\\site-packages (from matplotlib) (3.0.6)\n",
      "Requirement already satisfied: setuptools-scm>=4 in c:\\users\\darrg\\miniconda3\\lib\\site-packages (from matplotlib) (6.3.2)\n",
      "Requirement already satisfied: cycler>=0.10 in c:\\users\\darrg\\miniconda3\\lib\\site-packages (from matplotlib) (0.11.0)\n",
      "Requirement already satisfied: fonttools>=4.22.0 in c:\\users\\darrg\\miniconda3\\lib\\site-packages (from matplotlib) (4.28.1)\n",
      "Requirement already satisfied: pillow>=6.2.0 in c:\\users\\darrg\\miniconda3\\lib\\site-packages (from matplotlib) (8.4.0)\n",
      "Requirement already satisfied: python-dateutil>=2.7 in c:\\users\\darrg\\miniconda3\\lib\\site-packages (from matplotlib) (2.8.2)\n",
      "Requirement already satisfied: packaging>=20.0 in c:\\users\\darrg\\miniconda3\\lib\\site-packages (from matplotlib) (21.3)\n",
      "Requirement already satisfied: kiwisolver>=1.0.1 in c:\\users\\darrg\\miniconda3\\lib\\site-packages (from matplotlib) (1.3.2)\n",
      "Requirement already satisfied: numpy>=1.17 in c:\\users\\darrg\\miniconda3\\lib\\site-packages (from matplotlib) (1.21.4)\n",
      "Requirement already satisfied: six>=1.5 in c:\\users\\darrg\\miniconda3\\lib\\site-packages (from python-dateutil>=2.7->matplotlib) (1.16.0)\n",
      "Requirement already satisfied: setuptools in c:\\users\\darrg\\miniconda3\\lib\\site-packages (from setuptools-scm>=4->matplotlib) (52.0.0.post20210125)\n",
      "Requirement already satisfied: tomli>=1.0.0 in c:\\users\\darrg\\miniconda3\\lib\\site-packages (from setuptools-scm>=4->matplotlib) (1.2.2)\n",
      "Requirement already satisfied: sklearn in c:\\users\\darrg\\miniconda3\\lib\\site-packages (0.0)\n",
      "Requirement already satisfied: scikit-learn in c:\\users\\darrg\\miniconda3\\lib\\site-packages (from sklearn) (1.0.1)\n",
      "Requirement already satisfied: numpy>=1.14.6 in c:\\users\\darrg\\miniconda3\\lib\\site-packages (from scikit-learn->sklearn) (1.21.4)\n",
      "Requirement already satisfied: threadpoolctl>=2.0.0 in c:\\users\\darrg\\miniconda3\\lib\\site-packages (from scikit-learn->sklearn) (3.0.0)\n",
      "Requirement already satisfied: joblib>=0.11 in c:\\users\\darrg\\miniconda3\\lib\\site-packages (from scikit-learn->sklearn) (1.1.0)\n",
      "Requirement already satisfied: scipy>=1.1.0 in c:\\users\\darrg\\miniconda3\\lib\\site-packages (from scikit-learn->sklearn) (1.7.2)\n",
      "Requirement already satisfied: keras in c:\\users\\darrg\\miniconda3\\lib\\site-packages (2.7.0)\n",
      "Requirement already satisfied: tensorflow in c:\\users\\darrg\\miniconda3\\lib\\site-packages (2.7.0)\n",
      "Requirement already satisfied: typing-extensions>=3.6.6 in c:\\users\\darrg\\miniconda3\\lib\\site-packages (from tensorflow) (4.0.0)\n",
      "Requirement already satisfied: keras-preprocessing>=1.1.1 in c:\\users\\darrg\\miniconda3\\lib\\site-packages (from tensorflow) (1.1.2)\n",
      "Requirement already satisfied: google-pasta>=0.1.1 in c:\\users\\darrg\\miniconda3\\lib\\site-packages (from tensorflow) (0.2.0)\n",
      "Requirement already satisfied: flatbuffers<3.0,>=1.12 in c:\\users\\darrg\\miniconda3\\lib\\site-packages (from tensorflow) (2.0)\n",
      "Requirement already satisfied: wrapt>=1.11.0 in c:\\users\\darrg\\miniconda3\\lib\\site-packages (from tensorflow) (1.13.3)\n",
      "Requirement already satisfied: keras<2.8,>=2.7.0rc0 in c:\\users\\darrg\\miniconda3\\lib\\site-packages (from tensorflow) (2.7.0)\n",
      "Requirement already satisfied: numpy>=1.14.5 in c:\\users\\darrg\\miniconda3\\lib\\site-packages (from tensorflow) (1.21.4)\n",
      "Requirement already satisfied: wheel<1.0,>=0.32.0 in c:\\users\\darrg\\miniconda3\\lib\\site-packages (from tensorflow) (0.36.2)\n",
      "Requirement already satisfied: opt-einsum>=2.3.2 in c:\\users\\darrg\\miniconda3\\lib\\site-packages (from tensorflow) (3.3.0)\n",
      "Requirement already satisfied: grpcio<2.0,>=1.24.3 in c:\\users\\darrg\\miniconda3\\lib\\site-packages (from tensorflow) (1.42.0)\n",
      "Requirement already satisfied: h5py>=2.9.0 in c:\\users\\darrg\\miniconda3\\lib\\site-packages (from tensorflow) (3.6.0)\n",
      "Requirement already satisfied: six>=1.12.0 in c:\\users\\darrg\\miniconda3\\lib\\site-packages (from tensorflow) (1.16.0)\n",
      "Requirement already satisfied: libclang>=9.0.1 in c:\\users\\darrg\\miniconda3\\lib\\site-packages (from tensorflow) (12.0.0)\n",
      "Requirement already satisfied: tensorflow-estimator<2.8,~=2.7.0rc0 in c:\\users\\darrg\\miniconda3\\lib\\site-packages (from tensorflow) (2.7.0)\n",
      "Requirement already satisfied: protobuf>=3.9.2 in c:\\users\\darrg\\miniconda3\\lib\\site-packages (from tensorflow) (3.19.1)\n",
      "Requirement already satisfied: tensorboard~=2.6 in c:\\users\\darrg\\miniconda3\\lib\\site-packages (from tensorflow) (2.7.0)\n",
      "Requirement already satisfied: tensorflow-io-gcs-filesystem>=0.21.0 in c:\\users\\darrg\\miniconda3\\lib\\site-packages (from tensorflow) (0.22.0)\n",
      "Requirement already satisfied: absl-py>=0.4.0 in c:\\users\\darrg\\miniconda3\\lib\\site-packages (from tensorflow) (1.0.0)\n",
      "Requirement already satisfied: gast<0.5.0,>=0.2.1 in c:\\users\\darrg\\miniconda3\\lib\\site-packages (from tensorflow) (0.4.0)\n",
      "Requirement already satisfied: astunparse>=1.6.0 in c:\\users\\darrg\\miniconda3\\lib\\site-packages (from tensorflow) (1.6.3)\n",
      "Requirement already satisfied: termcolor>=1.1.0 in c:\\users\\darrg\\miniconda3\\lib\\site-packages (from tensorflow) (1.1.0)\n",
      "Requirement already satisfied: google-auth-oauthlib<0.5,>=0.4.1 in c:\\users\\darrg\\miniconda3\\lib\\site-packages (from tensorboard~=2.6->tensorflow) (0.4.6)\n",
      "Requirement already satisfied: google-auth<3,>=1.6.3 in c:\\users\\darrg\\miniconda3\\lib\\site-packages (from tensorboard~=2.6->tensorflow) (2.3.3)\n",
      "Requirement already satisfied: tensorboard-plugin-wit>=1.6.0 in c:\\users\\darrg\\miniconda3\\lib\\site-packages (from tensorboard~=2.6->tensorflow) (1.8.0)\n",
      "Requirement already satisfied: markdown>=2.6.8 in c:\\users\\darrg\\miniconda3\\lib\\site-packages (from tensorboard~=2.6->tensorflow) (3.3.6)\n",
      "Requirement already satisfied: setuptools>=41.0.0 in c:\\users\\darrg\\miniconda3\\lib\\site-packages (from tensorboard~=2.6->tensorflow) (52.0.0.post20210125)\n",
      "Requirement already satisfied: werkzeug>=0.11.15 in c:\\users\\darrg\\miniconda3\\lib\\site-packages (from tensorboard~=2.6->tensorflow) (2.0.2)\n",
      "Requirement already satisfied: tensorboard-data-server<0.7.0,>=0.6.0 in c:\\users\\darrg\\miniconda3\\lib\\site-packages (from tensorboard~=2.6->tensorflow) (0.6.1)\n",
      "Requirement already satisfied: requests<3,>=2.21.0 in c:\\users\\darrg\\miniconda3\\lib\\site-packages (from tensorboard~=2.6->tensorflow) (2.25.1)\n",
      "Requirement already satisfied: cachetools<5.0,>=2.0.0 in c:\\users\\darrg\\miniconda3\\lib\\site-packages (from google-auth<3,>=1.6.3->tensorboard~=2.6->tensorflow) (4.2.4)\n",
      "Requirement already satisfied: rsa<5,>=3.1.4 in c:\\users\\darrg\\miniconda3\\lib\\site-packages (from google-auth<3,>=1.6.3->tensorboard~=2.6->tensorflow) (4.7.2)\n",
      "Requirement already satisfied: pyasn1-modules>=0.2.1 in c:\\users\\darrg\\miniconda3\\lib\\site-packages (from google-auth<3,>=1.6.3->tensorboard~=2.6->tensorflow) (0.2.8)\n",
      "Requirement already satisfied: requests-oauthlib>=0.7.0 in c:\\users\\darrg\\miniconda3\\lib\\site-packages (from google-auth-oauthlib<0.5,>=0.4.1->tensorboard~=2.6->tensorflow) (1.3.0)\n",
      "Requirement already satisfied: importlib-metadata>=4.4 in c:\\users\\darrg\\miniconda3\\lib\\site-packages (from markdown>=2.6.8->tensorboard~=2.6->tensorflow) (4.8.2)\n",
      "Requirement already satisfied: zipp>=0.5 in c:\\users\\darrg\\miniconda3\\lib\\site-packages (from importlib-metadata>=4.4->markdown>=2.6.8->tensorboard~=2.6->tensorflow) (3.6.0)\n",
      "Requirement already satisfied: pyasn1<0.5.0,>=0.4.6 in c:\\users\\darrg\\miniconda3\\lib\\site-packages (from pyasn1-modules>=0.2.1->google-auth<3,>=1.6.3->tensorboard~=2.6->tensorflow) (0.4.8)\n",
      "Requirement already satisfied: idna<3,>=2.5 in c:\\users\\darrg\\miniconda3\\lib\\site-packages (from requests<3,>=2.21.0->tensorboard~=2.6->tensorflow) (2.10)\n",
      "Requirement already satisfied: urllib3<1.27,>=1.21.1 in c:\\users\\darrg\\miniconda3\\lib\\site-packages (from requests<3,>=2.21.0->tensorboard~=2.6->tensorflow) (1.26.6)\n",
      "Requirement already satisfied: chardet<5,>=3.0.2 in c:\\users\\darrg\\miniconda3\\lib\\site-packages (from requests<3,>=2.21.0->tensorboard~=2.6->tensorflow) (4.0.0)\n",
      "Requirement already satisfied: certifi>=2017.4.17 in c:\\users\\darrg\\miniconda3\\lib\\site-packages (from requests<3,>=2.21.0->tensorboard~=2.6->tensorflow) (2021.10.8)\n",
      "Requirement already satisfied: oauthlib>=3.0.0 in c:\\users\\darrg\\miniconda3\\lib\\site-packages (from requests-oauthlib>=0.7.0->google-auth-oauthlib<0.5,>=0.4.1->tensorboard~=2.6->tensorflow) (3.1.1)\n"
     ]
    }
   ],
   "source": [
    "!pip install numpy\n",
    "!pip install pandas\n",
    "!pip install matplotlib\n",
    "!pip install sklearn\n",
    "!pip install keras\n",
    "!pip install tensorflow"
   ]
  },
  {
   "cell_type": "markdown",
   "id": "68a15ab3-4378-4350-83b1-e89bdf6bb886",
   "metadata": {},
   "source": [
    "<h5> This next cell imports all the things I need like keras for the modeling <h5>"
   ]
  },
  {
   "cell_type": "code",
   "execution_count": 1,
   "id": "c11667b6-1091-4a52-a5f7-a1853440c68d",
   "metadata": {},
   "outputs": [],
   "source": [
    "import pandas as pd\n",
    "import numpy as np\n",
    "import matplotlib.pyplot as plt\n",
    "from sklearn.preprocessing import MinMaxScaler\n",
    "from keras.models import Sequential, load_model\n",
    "from keras.layers import LSTM, Dense, Dropout"
   ]
  },
  {
   "cell_type": "markdown",
   "id": "a26d5857-9661-4b21-ad28-8e87070cfebd",
   "metadata": {},
   "source": [
    "<h5>This next cell reads in the csv to run different analysis on each column<h5>"
   ]
  },
  {
   "cell_type": "code",
   "execution_count": 2,
   "id": "266c0c1b-db97-4b0e-9f6d-11490b3bf98b",
   "metadata": {},
   "outputs": [],
   "source": [
    "df = pd.read_csv('JAZZ.csv')\n",
    "df1 = pd.read_csv('JAZZ.csv')\n",
    "df2 = pd.read_csv('JAZZ.csv')\n",
    "df3 = pd.read_csv('JAZZ.csv')"
   ]
  },
  {
   "cell_type": "markdown",
   "id": "f645aad1-70e1-4c06-96c4-9331c070dab6",
   "metadata": {},
   "source": [
    "<h5> Checking to make sure the size is correct <h5>"
   ]
  },
  {
   "cell_type": "code",
   "execution_count": 3,
   "id": "aa2b1ba5-ccad-44fa-abd0-dd8a343bfee4",
   "metadata": {},
   "outputs": [
    {
     "data": {
      "text/plain": [
       "(3654, 7)"
      ]
     },
     "execution_count": 3,
     "metadata": {},
     "output_type": "execute_result"
    }
   ],
   "source": [
    "df.shape"
   ]
  },
  {
   "cell_type": "markdown",
   "id": "93d37791-2796-4d24-aef9-4462519b5482",
   "metadata": {},
   "source": [
    "<h5> Opening the different columns into different variables to train different models based on different prices <h5>"
   ]
  },
  {
   "cell_type": "code",
   "execution_count": 4,
   "id": "d7e5ba0c-b62d-46b9-a490-b28da64a1f4f",
   "metadata": {},
   "outputs": [],
   "source": [
    "df = df['Open'].values\n",
    "df1 = df1['Close'].values\n",
    "df2 = df2['High'].values\n",
    "df3 = df3['Low'].values\n",
    "df = df.reshape(-1, 1)\n",
    "df1 = df1.reshape(-1,1)\n",
    "df2 = df2.reshape(-1, 1)\n",
    "df3 = df3.reshape(-1,1)"
   ]
  },
  {
   "cell_type": "markdown",
   "id": "22654da8-99bf-4031-82d4-c651ffdcf04b",
   "metadata": {},
   "source": [
    "<h5> Beginning of the training <h5>"
   ]
  },
  {
   "cell_type": "code",
   "execution_count": 5,
   "id": "3d4e1593-db02-4d2c-a098-0ca48e1290f6",
   "metadata": {},
   "outputs": [],
   "source": [
    "dataset_train = np.array(df[:int(df.shape[0]*0.8)])\n",
    "dataset_test = np.array(df[int(df.shape[0]*0.8):])\n",
    "dataset_train1 = np.array(df1[:int(df1.shape[0]*0.8)])\n",
    "dataset_test1 = np.array(df1[int(df1.shape[0]*0.8):])\n",
    "dataset_train2 = np.array(df2[:int(df2.shape[0]*0.8)])\n",
    "dataset_test2 = np.array(df2[int(df2.shape[0]*0.8):])\n",
    "dataset_train3 = np.array(df3[:int(df3.shape[0]*0.8)])\n",
    "dataset_test3 = np.array(df3[int(df3.shape[0]*0.8):])"
   ]
  },
  {
   "cell_type": "code",
   "execution_count": 6,
   "id": "7ea534a0-18a9-44a0-acf1-4d16d4b6f9f1",
   "metadata": {},
   "outputs": [],
   "source": [
    "scaler = MinMaxScaler(feature_range=(0,1))\n",
    "dataset_train = scaler.fit_transform(dataset_train)\n",
    "dataset_test = scaler.transform(dataset_test)\n",
    "dataset_train1 = scaler.fit_transform(dataset_train1)\n",
    "dataset_test1 = scaler.transform(dataset_test1)\n",
    "dataset_train2 = scaler.fit_transform(dataset_train2)\n",
    "dataset_test2 = scaler.transform(dataset_test2)\n",
    "dataset_train3 = scaler.fit_transform(dataset_train3)\n",
    "dataset_test3 = scaler.transform(dataset_test3)"
   ]
  },
  {
   "cell_type": "code",
   "execution_count": 7,
   "id": "01f1c76e-063a-48a2-8912-5b50a1aaf66b",
   "metadata": {},
   "outputs": [],
   "source": [
    "def create_dataset(df):\n",
    "    x = []\n",
    "    y = []\n",
    "    for i in range(50, df.shape[0]):\n",
    "        x.append(df[i-50:i, 0])\n",
    "        y.append(df[i, 0])\n",
    "    x = np.array(x)\n",
    "    y = np.array(y)\n",
    "    return x,y"
   ]
  },
  {
   "cell_type": "markdown",
   "id": "04020966-bb89-4614-b7f4-af9a4b5a7bc9",
   "metadata": {},
   "source": [
    "<h5> Creating test and training variables <h5>"
   ]
  },
  {
   "cell_type": "code",
   "execution_count": 8,
   "id": "b7bf7270-0e0f-4025-ab54-18e5225ba87e",
   "metadata": {},
   "outputs": [],
   "source": [
    "x_train, y_train = create_dataset(dataset_train)\n",
    "x_test, y_test = create_dataset(dataset_test)\n",
    "x_train1, y_train1 = create_dataset(dataset_train1)\n",
    "x_test1, y_test1 = create_dataset(dataset_test1)\n",
    "x_train2, y_train2 = create_dataset(dataset_train2)\n",
    "x_test2, y_test2 = create_dataset(dataset_test2)\n",
    "x_train3, y_train3 = create_dataset(dataset_train3)\n",
    "x_test3, y_test3 = create_dataset(dataset_test3)"
   ]
  },
  {
   "cell_type": "code",
   "execution_count": 9,
   "id": "e8dfdac7-fac3-4e55-a203-cb6821020c39",
   "metadata": {},
   "outputs": [],
   "source": [
    "x_train = np.reshape(x_train, (x_train.shape[0], x_train.shape[1], 1))\n",
    "x_test = np.reshape(x_test, (x_test.shape[0], x_test.shape[1], 1))\n",
    "x_train1 = np.reshape(x_train1, (x_train1.shape[0], x_train1.shape[1], 1))\n",
    "x_test1 = np.reshape(x_test1, (x_test1.shape[0], x_test1.shape[1], 1))\n",
    "x_train2 = np.reshape(x_train2, (x_train2.shape[0], x_train2.shape[1], 1))\n",
    "x_test2 = np.reshape(x_test2, (x_test2.shape[0], x_test2.shape[1], 1))\n",
    "x_train3 = np.reshape(x_train3, (x_train3.shape[0], x_train3.shape[1], 1))\n",
    "x_test3 = np.reshape(x_test3, (x_test3.shape[0], x_test3.shape[1], 1))"
   ]
  },
  {
   "cell_type": "markdown",
   "id": "bf88d29c-7da1-4fec-bc32-4768ea52ad54",
   "metadata": {},
   "source": [
    "<h5> Creating the 4 models (Open, Close, High, and Low) <h5>"
   ]
  },
  {
   "cell_type": "code",
   "execution_count": 10,
   "id": "a2e5f069-8282-43e0-a2d3-c2210b3040ce",
   "metadata": {},
   "outputs": [],
   "source": [
    "model = Sequential()\n",
    "model.add(LSTM(units=96, return_sequences=True, input_shape=(x_train.shape[1], 1)))\n",
    "model.add(Dropout(0.2))\n",
    "model.add(LSTM(units=96,return_sequences=True))\n",
    "model.add(Dropout(0.2))\n",
    "model.add(LSTM(units=96,return_sequences=True))\n",
    "model.add(Dropout(0.2))\n",
    "model.add(LSTM(units=96))\n",
    "model.add(Dropout(0.2))\n",
    "model.add(Dense(units=1))\n",
    "model1 = Sequential()\n",
    "model1.add(LSTM(units=96, return_sequences=True, input_shape=(x_train1.shape[1], 1)))\n",
    "model1.add(Dropout(0.2))\n",
    "model1.add(LSTM(units=96,return_sequences=True))\n",
    "model1.add(Dropout(0.2))\n",
    "model1.add(LSTM(units=96,return_sequences=True))\n",
    "model1.add(Dropout(0.2))\n",
    "model1.add(LSTM(units=96))\n",
    "model1.add(Dropout(0.2))\n",
    "model1.add(Dense(units=1))\n",
    "model2 = Sequential()\n",
    "model2.add(LSTM(units=96, return_sequences=True, input_shape=(x_train2.shape[1], 1)))\n",
    "model2.add(Dropout(0.2))\n",
    "model2.add(LSTM(units=96,return_sequences=True))\n",
    "model2.add(Dropout(0.2))\n",
    "model2.add(LSTM(units=96,return_sequences=True))\n",
    "model2.add(Dropout(0.2))\n",
    "model2.add(LSTM(units=96))\n",
    "model2.add(Dropout(0.2))\n",
    "model2.add(Dense(units=1))\n",
    "model3 = Sequential()\n",
    "model3.add(LSTM(units=96, return_sequences=True, input_shape=(x_train3.shape[1], 1)))\n",
    "model3.add(Dropout(0.2))\n",
    "model3.add(LSTM(units=96,return_sequences=True))\n",
    "model3.add(Dropout(0.2))\n",
    "model3.add(LSTM(units=96,return_sequences=True))\n",
    "model3.add(Dropout(0.2))\n",
    "model3.add(LSTM(units=96))\n",
    "model3.add(Dropout(0.2))\n",
    "model3.add(Dense(units=1))"
   ]
  },
  {
   "cell_type": "code",
   "execution_count": 11,
   "id": "2100414a-1e82-454a-bd36-f81d1569f836",
   "metadata": {},
   "outputs": [],
   "source": [
    "x_train = np.reshape(x_train, (x_train.shape[0], x_train.shape[1], 1))\n",
    "x_test = np.reshape(x_test, (x_test.shape[0], x_test.shape[1], 1))\n",
    "x_train1 = np.reshape(x_train1, (x_train1.shape[0], x_train1.shape[1], 1))\n",
    "x_test1 = np.reshape(x_test1, (x_test1.shape[0], x_test1.shape[1], 1))\n",
    "x_train2 = np.reshape(x_train2, (x_train2.shape[0], x_train2.shape[1], 1))\n",
    "x_test2 = np.reshape(x_test2, (x_test2.shape[0], x_test2.shape[1], 1))\n",
    "x_train3 = np.reshape(x_train3, (x_train3.shape[0], x_train3.shape[1], 1))\n",
    "x_test3 = np.reshape(x_test3, (x_test3.shape[0], x_test3.shape[1], 1))"
   ]
  },
  {
   "cell_type": "code",
   "execution_count": 12,
   "id": "c3403ac9-7c1d-41bf-a46a-cf9e63b72893",
   "metadata": {},
   "outputs": [],
   "source": [
    "model.compile(loss='mean_squared_error', optimizer='adam')\n",
    "model1.compile(loss='mean_squared_error', optimizer='adam')\n",
    "model2.compile(loss='mean_squared_error', optimizer='adam')\n",
    "model3.compile(loss='mean_squared_error', optimizer='adam')"
   ]
  },
  {
   "cell_type": "markdown",
   "id": "0e77c29a-c977-4e82-a2ba-a106529c1469",
   "metadata": {},
   "source": [
    "<h5> Fitting the model and saving the model in its file <h5>"
   ]
  },
  {
   "cell_type": "code",
   "execution_count": 13,
   "id": "fde48cc5-8ecc-49d6-a717-ff8ce6ebdd0d",
   "metadata": {},
   "outputs": [
    {
     "name": "stdout",
     "output_type": "stream",
     "text": [
      "Epoch 1/50\n",
      "45/45 [==============================] - 12s 143ms/step - loss: 0.0178\n",
      "Epoch 2/50\n",
      "45/45 [==============================] - 7s 144ms/step - loss: 0.0030\n",
      "Epoch 3/50\n",
      "45/45 [==============================] - 7s 161ms/step - loss: 0.0029\n",
      "Epoch 4/50\n",
      "45/45 [==============================] - 7s 152ms/step - loss: 0.0025\n",
      "Epoch 5/50\n",
      "45/45 [==============================] - 7s 145ms/step - loss: 0.0024\n",
      "Epoch 6/50\n",
      "45/45 [==============================] - 7s 149ms/step - loss: 0.0025\n",
      "Epoch 7/50\n",
      "45/45 [==============================] - 7s 157ms/step - loss: 0.0025\n",
      "Epoch 8/50\n",
      "45/45 [==============================] - 9s 193ms/step - loss: 0.0025\n",
      "Epoch 9/50\n",
      "45/45 [==============================] - 8s 174ms/step - loss: 0.0024\n",
      "Epoch 10/50\n",
      "45/45 [==============================] - 7s 162ms/step - loss: 0.0028\n",
      "Epoch 11/50\n",
      "45/45 [==============================] - 8s 172ms/step - loss: 0.0026\n",
      "Epoch 12/50\n",
      "45/45 [==============================] - 8s 179ms/step - loss: 0.0026\n",
      "Epoch 13/50\n",
      "45/45 [==============================] - 7s 158ms/step - loss: 0.0019\n",
      "Epoch 14/50\n",
      "45/45 [==============================] - 6s 138ms/step - loss: 0.0020\n",
      "Epoch 15/50\n",
      "45/45 [==============================] - 6s 140ms/step - loss: 0.0025\n",
      "Epoch 16/50\n",
      "45/45 [==============================] - 8s 187ms/step - loss: 0.0019 4s - l - ETA: 2s \n",
      "Epoch 17/50\n",
      "45/45 [==============================] - 7s 153ms/step - loss: 0.0018\n",
      "Epoch 18/50\n",
      "45/45 [==============================] - 6s 143ms/step - loss: 0.0017\n",
      "Epoch 19/50\n",
      "45/45 [==============================] - 6s 140ms/step - loss: 0.0017\n",
      "Epoch 20/50\n",
      "45/45 [==============================] - 8s 172ms/step - loss: 0.0017\n",
      "Epoch 21/50\n",
      "45/45 [==============================] - 7s 165ms/step - loss: 0.0019\n",
      "Epoch 22/50\n",
      "45/45 [==============================] - 6s 137ms/step - loss: 0.0016\n",
      "Epoch 23/50\n",
      "45/45 [==============================] - 6s 140ms/step - loss: 0.0016\n",
      "Epoch 24/50\n",
      "45/45 [==============================] - 6s 127ms/step - loss: 0.0018\n",
      "Epoch 25/50\n",
      "45/45 [==============================] - 6s 128ms/step - loss: 0.0019\n",
      "Epoch 26/50\n",
      "45/45 [==============================] - 6s 128ms/step - loss: 0.0017\n",
      "Epoch 27/50\n",
      "45/45 [==============================] - 6s 129ms/step - loss: 0.0018\n",
      "Epoch 28/50\n",
      "45/45 [==============================] - 6s 133ms/step - loss: 0.0016\n",
      "Epoch 29/50\n",
      "45/45 [==============================] - 6s 132ms/step - loss: 0.0015\n",
      "Epoch 30/50\n",
      "45/45 [==============================] - 6s 129ms/step - loss: 0.0016\n",
      "Epoch 31/50\n",
      "45/45 [==============================] - 6s 129ms/step - loss: 0.0015\n",
      "Epoch 32/50\n",
      "45/45 [==============================] - 6s 127ms/step - loss: 0.0016\n",
      "Epoch 33/50\n",
      "45/45 [==============================] - 6s 128ms/step - loss: 0.0015\n",
      "Epoch 34/50\n",
      "45/45 [==============================] - 6s 127ms/step - loss: 0.0014\n",
      "Epoch 35/50\n",
      "45/45 [==============================] - 6s 129ms/step - loss: 0.0012\n",
      "Epoch 36/50\n",
      "45/45 [==============================] - 6s 138ms/step - loss: 0.0014\n",
      "Epoch 37/50\n",
      "45/45 [==============================] - 8s 172ms/step - loss: 0.0016\n",
      "Epoch 38/50\n",
      "45/45 [==============================] - 6s 142ms/step - loss: 0.0014\n",
      "Epoch 39/50\n",
      "45/45 [==============================] - 7s 149ms/step - loss: 0.0012\n",
      "Epoch 40/50\n",
      "45/45 [==============================] - 6s 130ms/step - loss: 0.0013\n",
      "Epoch 41/50\n",
      "45/45 [==============================] - 6s 127ms/step - loss: 0.0015\n",
      "Epoch 42/50\n",
      "45/45 [==============================] - 6s 126ms/step - loss: 0.0014\n",
      "Epoch 43/50\n",
      "45/45 [==============================] - 6s 136ms/step - loss: 0.0013\n",
      "Epoch 44/50\n",
      "45/45 [==============================] - 6s 135ms/step - loss: 0.0012\n",
      "Epoch 45/50\n",
      "45/45 [==============================] - 7s 165ms/step - loss: 0.0013\n",
      "Epoch 46/50\n",
      "45/45 [==============================] - 6s 133ms/step - loss: 0.0012\n",
      "Epoch 47/50\n",
      "45/45 [==============================] - 6s 128ms/step - loss: 0.0013\n",
      "Epoch 48/50\n",
      "45/45 [==============================] - 6s 139ms/step - loss: 0.0012\n",
      "Epoch 49/50\n",
      "45/45 [==============================] - 7s 145ms/step - loss: 0.0011\n",
      "Epoch 50/50\n",
      "45/45 [==============================] - 8s 169ms/step - loss: 0.0012\n"
     ]
    }
   ],
   "source": [
    "model.fit(x_train, y_train, epochs=50, batch_size=64)\n",
    "model.save('stock_prediction.h5')"
   ]
  },
  {
   "cell_type": "code",
   "execution_count": null,
   "id": "6c307955-4ba2-443a-885f-d501165a4d7f",
   "metadata": {},
   "outputs": [
    {
     "name": "stdout",
     "output_type": "stream",
     "text": [
      "Epoch 1/50\n",
      "45/45 [==============================] - 10s 132ms/step - loss: 0.0227\n",
      "Epoch 2/50\n",
      "45/45 [==============================] - 6s 137ms/step - loss: 0.0030\n",
      "Epoch 3/50\n",
      "45/45 [==============================] - 7s 153ms/step - loss: 0.0030\n",
      "Epoch 4/50\n",
      "45/45 [==============================] - 7s 150ms/step - loss: 0.0026\n",
      "Epoch 5/50\n",
      "45/45 [==============================] - 6s 137ms/step - loss: 0.0027\n",
      "Epoch 6/50\n",
      "45/45 [==============================] - 6s 125ms/step - loss: 0.0028\n",
      "Epoch 7/50\n",
      "45/45 [==============================] - 8s 173ms/step - loss: 0.0025\n",
      "Epoch 8/50\n",
      "12/45 [=======>......................] - ETA: 5s - loss: 0.0022"
     ]
    }
   ],
   "source": [
    "model1.fit(x_train1, y_train1, epochs=50, batch_size=64)\n",
    "model1.save('stock_prediction1.h5')"
   ]
  },
  {
   "cell_type": "code",
   "execution_count": null,
   "id": "adf7139e-b209-4a6f-9be6-2fcbe7939b56",
   "metadata": {},
   "outputs": [],
   "source": [
    "model2.fit(x_train2, y_train2, epochs=50, batch_size=64)\n",
    "model2.save('stock_prediction2.h5')"
   ]
  },
  {
   "cell_type": "code",
   "execution_count": null,
   "id": "38bccb9a-08de-45fe-a953-12dc5c4d5255",
   "metadata": {},
   "outputs": [],
   "source": [
    "model3.fit(x_train3, y_train3, epochs=50, batch_size=64)\n",
    "model3.save('stock_prediction3.h5')"
   ]
  },
  {
   "cell_type": "markdown",
   "id": "ef20a862-e1d6-489a-a30b-9e0ddcd6310d",
   "metadata": {},
   "source": [
    "<h5> Reload the models to run graphs <h5>"
   ]
  },
  {
   "cell_type": "code",
   "execution_count": null,
   "id": "d65f61c1-70a5-4378-8941-f20d0ce71ee8",
   "metadata": {},
   "outputs": [],
   "source": [
    "model = load_model('stock_prediction.h5')\n",
    "model1 = load_model('stock_prediction1.h5')\n",
    "model2 = load_model('stock_prediction2.h5')\n",
    "model3 = load_model('stock_prediction3.h5')"
   ]
  },
  {
   "cell_type": "markdown",
   "id": "5417a459-5459-449c-98d5-db9d98fc6e93",
   "metadata": {},
   "source": [
    "<h3> GRAPHS <h3>\n",
    "<h5> Run each graph to against the real data set <h5>"
   ]
  },
  {
   "cell_type": "code",
   "execution_count": null,
   "id": "60311e85-0aaa-4b24-a2dc-1b80d23b4fad",
   "metadata": {},
   "outputs": [],
   "source": [
    "#Open Prediction\n",
    "predictions = model.predict(x_test)\n",
    "predictions = scaler.inverse_transform(predictions)\n",
    "y_test_scaled = scaler.inverse_transform(y_test.reshape(-1, 1))\n",
    "\n",
    "fig, ax = plt.subplots(figsize=(20,10))\n",
    "ax.set_facecolor('#000000')\n",
    "ax.plot(y_test_scaled, color='white', label='Original')\n",
    "plt.plot(predictions, color='green', label='Prediction')\n",
    "plt.legend()\n"
   ]
  },
  {
   "cell_type": "code",
   "execution_count": null,
   "id": "295bbe4f-98ff-4c30-82fb-f9c42121f0af",
   "metadata": {},
   "outputs": [],
   "source": [
    "#High Prediction\n",
    "predictions2 = model2.predict(x_test2)\n",
    "predictions2 = scaler.inverse_transform(predictions2)\n",
    "y_test_scaled2 = scaler.inverse_transform(y_test2.reshape(-1, 1))\n",
    "\n",
    "fig, ax = plt.subplots(figsize=(20,10))\n",
    "ax.set_facecolor('#000000')\n",
    "ax.plot(y_test_scaled2, color='white', label='Original')\n",
    "plt.plot(predictions2, color='green', label='Prediction')\n",
    "plt.legend()"
   ]
  },
  {
   "cell_type": "code",
   "execution_count": null,
   "id": "300709b8-c7c9-4d95-80cd-2a078de439d3",
   "metadata": {},
   "outputs": [],
   "source": [
    "#Low Prediction\n",
    "predictions3 = model3.predict(x_test)\n",
    "predictions3 = scaler.inverse_transform(predictions3)\n",
    "y_test_scaled3 = scaler.inverse_transform(y_test3.reshape(-1, 1))\n",
    "\n",
    "fig, ax = plt.subplots(figsize=(20,10))\n",
    "ax.set_facecolor('#000000')\n",
    "ax.plot(y_test_scaled3, color='white', label='Original')\n",
    "plt.plot(predictions3, color='green', label='Prediction')\n",
    "plt.legend()"
   ]
  },
  {
   "cell_type": "code",
   "execution_count": null,
   "id": "c22c23c5-f702-429c-9f2d-973bee592eb3",
   "metadata": {},
   "outputs": [],
   "source": [
    "#Closed Prediction\n",
    "predictions1 = model1.predict(x_test1)\n",
    "predictions1 = scaler.inverse_transform(predictions1)\n",
    "y_test_scaled1 = scaler.inverse_transform(y_test1.reshape(-1, 1))\n",
    "\n",
    "fig, ax = plt.subplots(figsize=(20,10))\n",
    "ax.set_facecolor('#000000')\n",
    "ax.plot(y_test_scaled1, color='white', label='Original')\n",
    "plt.plot(predictions1, color='green', label='Prediction')\n",
    "plt.legend()"
   ]
  },
  {
   "cell_type": "markdown",
   "id": "3209493e-9460-4cd9-bf45-cfe6ed61a61b",
   "metadata": {},
   "source": [
    "<h3> All graphs tested against real data <h3>"
   ]
  },
  {
   "cell_type": "code",
   "execution_count": null,
   "id": "1754a549-8ee1-40e7-a7c0-2f9afa09a22c",
   "metadata": {},
   "outputs": [],
   "source": [
    "fig, ax = plt.subplots(figsize=(20,10))\n",
    "ax.set_facecolor('#000000')\n",
    "ax.plot(y_test_scaled, color='white', label='Original')\n",
    "plt.plot(predictions, color='green', label='Open Prediction')\n",
    "plt.plot(predictions2, color='blue', label='High Prediction')\n",
    "plt.plot(predictions3, color='red', label='Low Prediction')\n",
    "plt.plot(predictions1, color='orange', label='Closed Prediction')\n",
    "plt.legend()"
   ]
  },
  {
   "cell_type": "code",
   "execution_count": null,
   "id": "651ef83a-fc84-4a7d-a6a4-6286c16d79fb",
   "metadata": {},
   "outputs": [],
   "source": []
  }
 ],
 "metadata": {
  "kernelspec": {
   "display_name": "Python 3 (ipykernel)",
   "language": "python",
   "name": "python3"
  },
  "language_info": {
   "codemirror_mode": {
    "name": "ipython",
    "version": 3
   },
   "file_extension": ".py",
   "mimetype": "text/x-python",
   "name": "python",
   "nbconvert_exporter": "python",
   "pygments_lexer": "ipython3",
   "version": "3.9.5"
  }
 },
 "nbformat": 4,
 "nbformat_minor": 5
}
